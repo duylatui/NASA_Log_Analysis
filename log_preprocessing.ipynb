{
 "cells": [
  {
   "cell_type": "markdown",
   "id": "8e2dae9f",
   "metadata": {},
   "source": [
    "# Tệp nhật ký - Khám phá dữ liệu"
   ]
  },
  {
   "cell_type": "markdown",
   "id": "fe395e5f",
   "metadata": {},
   "source": [
    "## Thư viện được sử dụng"
   ]
  },
  {
   "cell_type": "code",
   "execution_count": 1,
   "id": "ec24bfad",
   "metadata": {},
   "outputs": [],
   "source": [
    "from pyspark.sql import SparkSession"
   ]
  },
  {
   "cell_type": "markdown",
   "id": "61df31e4",
   "metadata": {},
   "source": [
    "## Tạo đối tượng cho Spark\n",
    "Avoid org.apache.spark.SparkUpgradeException: Có thể nhận được kết quả khác do nâng cấp Spark 3.0"
   ]
  },
  {
   "cell_type": "code",
   "execution_count": 2,
   "id": "f4cc04de",
   "metadata": {},
   "outputs": [
    {
     "name": "stderr",
     "output_type": "stream",
     "text": [
      "24/12/01 06:53:10 WARN NativeCodeLoader: Unable to load native-hadoop library for your platform... using builtin-java classes where applicable\n",
      "Using Spark's default log4j profile: org/apache/spark/log4j-defaults.properties\n",
      "Setting default log level to \"WARN\".\n",
      "To adjust logging level use sc.setLogLevel(newLevel). For SparkR, use setLogLevel(newLevel).\n"
     ]
    }
   ],
   "source": [
    "spark = SparkSession\\\n",
    ".builder\\\n",
    ".appName(\"pyspark-notebook\").\\\n",
    "config(\"spark.sql.legacy.timeParserPolicy\", \"LEGACY\").\\\n",
    "getOrCreate()"
   ]
  },
  {
   "cell_type": "markdown",
   "id": "e70180c3",
   "metadata": {},
   "source": [
    "## Tải dữ liệu đầu vào"
   ]
  },
  {
   "cell_type": "code",
   "execution_count": 3,
   "id": "3a7a0b7d",
   "metadata": {},
   "outputs": [],
   "source": [
    "log_file_path = r\"actual_log.txt\""
   ]
  },
  {
   "cell_type": "code",
   "execution_count": 4,
   "id": "4c6384e8",
   "metadata": {},
   "outputs": [
    {
     "name": "stdout",
     "output_type": "stream",
     "text": [
      "root\n",
      " |-- value: string (nullable = true)\n",
      "\n"
     ]
    },
    {
     "name": "stderr",
     "output_type": "stream",
     "text": [
      "[Stage 0:>                                                          (0 + 1) / 1]\r"
     ]
    },
    {
     "name": "stdout",
     "output_type": "stream",
     "text": [
      "+-------------------------------------------------------------------------------------------------------------------------------+\n",
      "|value                                                                                                                          |\n",
      "+-------------------------------------------------------------------------------------------------------------------------------+\n",
      "|in24.inetnebr.com - - [01/Aug/1995:00:00:01 -0400] \"GET /shuttle/missions/sts-68/news/sts-68-mcc-05.txt HTTP/1.0\" 200 1839     |\n",
      "|uplherc.upl.com - - [01/Aug/1995:00:00:07 -0400] \"GET / HTTP/1.0\" 304                                                          |\n",
      "|uplherc.upl.com - - [01/Aug/1995:00:00:08 -0400] \"GET /images/ksclogo-medium.gif HTTP/1.0\" 304 0                               |\n",
      "|uplherc.upl.com - - [01/Aug/1995:00:00:08 -0400] \"GET /images/MOSAIC-logosmall.gif HTTP/1.0\" 304                               |\n",
      "|uplherc.upl.com - - [01/Aug/1995:00:00:08 -0400] \"GET /images/USA-logosmall.gif HTTP/1.0\" 304 0                                |\n",
      "|ix-esc-ca2-07.ix.netcom.com - - [01/Aug/1995:00:00:09 -0400] \"GET /images/launch-logo.gif HTTP/1.0\" 200 1713                   |\n",
      "|uplherc.upl.com - - [01/Aug/1995:00:00:10 -0400] \"GET /images/WORLD-logosmall.gif HTTP/1.0\" 304 0                              |\n",
      "|slppp6.intermind.net - - [01/Aug/1995:00:00:10 -0400] \"GET /history/skylab/skylab.html HTTP/1.0\" 200 1687                      |\n",
      "|piweba4y.prodigy.com - - [01/Aug/1995:00:00:10 -0400] \"GET /images/launchmedium.gif HTTP/1.0\" 200 11853                        |\n",
      "|slppp6.intermind.net - - [01/Aug/1995:00:00:11 -0400] \"GET /history/skylab/skylab-small.gif HTTP/1.0\" 200 9202                 |\n",
      "|slppp6.intermind.net - - [01/Aug/1995:00:00:12 -0400] \"GET /images/ksclogosmall.gif HTTP/1.0\" 200 3635                         |\n",
      "|ix-esc-ca2-07.ix.netcom.com - - [01/Aug/1995:00:00:12 -0400] \"GET /history/apollo/images/apollo-logo1.gif HTTP/1.0\" 200 1173   |\n",
      "|slppp6.intermind.net - - [01/Aug/1995:00:00:13 -0400] \"GET /history/apollo/images/apollo-logo.gif HTTP/1.0\" 200 3047           |\n",
      "|uplherc.upl.com - - [01/Aug/1995:00:00:14 -0400] \"GET /images/NASA-logosmall.gif HTTP/1.0\" 304 0                               |\n",
      "|133.43.96.45 - - [01/Aug/1995:00:00:16 -0400] \"GET /shuttle/missions/sts-69/mission-sts-69.html HTTP/1.0\" 200 10566            |\n",
      "|kgtyk4.kj.yamagata-u.ac.jp - - [01/Aug/1995:00:00:17 -0400] \"GET / HTTP/1.0\" 200 7280                                          |\n",
      "|kgtyk4.kj.yamagata-u.ac.jp - - [01/Aug/1995:00:00:18 -0400] \"GET /images/ksclogo-medium.gif HTTP/1.0\" 200 5866                 |\n",
      "|d0ucr6.fnal.gov - - [01/Aug/1995:00:00:19 -0400] \"GET /history/apollo/apollo-16/apollo-16.html HTTP/1.0\" 200 2743              |\n",
      "|ix-esc-ca2-07.ix.netcom.com - - [01/Aug/1995:00:00:19 -0400] \"GET /shuttle/resources/orbiters/discovery.html HTTP/1.0\" 200 6849|\n",
      "|d0ucr6.fnal.gov - - [01/Aug/1995:00:00:20 -0400] \"GET /history/apollo/apollo-16/apollo-16-patch-small.gif HTTP/1.0\" 200 14897  |\n",
      "+-------------------------------------------------------------------------------------------------------------------------------+\n",
      "\n"
     ]
    },
    {
     "name": "stderr",
     "output_type": "stream",
     "text": [
      "                                                                                \r"
     ]
    }
   ],
   "source": [
    "base_df = spark.read.text(log_file_path)\n",
    "# Let's look at the schema\n",
    "base_df.printSchema()\n",
    "base_df.show(truncate=False)"
   ]
  },
  {
   "cell_type": "markdown",
   "id": "82f33a4e",
   "metadata": {},
   "source": [
    "##  Phân tích"
   ]
  },
  {
   "cell_type": "markdown",
   "id": "ce3c1fcc",
   "metadata": {},
   "source": [
    "Nếu đã quen thuộc với máy chủ web, chúng ta sẽ nhận ra rằng đây là <a href=\"https://www.w3.org/Daemon/User/Config/Logging.html#common-logfile-format\" > Định dạng nhật ký chung </a>. Các trường là:\n",
    "<b>remotehost rfc931 authuser date \"request\" status bytes</b>\n",
    "\n",
    "<table>\n",
    "    <tr>\n",
    "        <th>Trường</th>\n",
    "        <th>Ý nghĩa</th>\n",
    "    </tr>\n",
    "    <tr>\n",
    "        <td>remotehost</td>\n",
    "        <td>Tên máy chủ từ xa (hoặc số IP nếu tên máy chủ DNS không có sẵn).</td>\n",
    "    </tr>\n",
    "    <tr>\n",
    "        <td>rfc931</td>\n",
    "        <td>Tên đăng nhập từ xa của người dùng.</td>\n",
    "    </tr>\n",
    "    <tr>\n",
    "        <td>authuser</td>\n",
    "        <td>Tên người dùng của người dùng từ xa, được xác thực bởi máy chủ HTTP.</td>\n",
    "    </tr>\n",
    "    <tr>\n",
    "        <td>date</td>\n",
    "        <td>Ngày và giờ của yêu cầu.</td>\n",
    "    </tr>\n",
    "    <tr>\n",
    "        <td>request</td>\n",
    "        <td>Yêu cầu chính xác như được gửi từ trình duyệt hoặc ứng dụng khách.</td>\n",
    "    </tr>\n",
    "    <tr>\n",
    "        <td>status</td>\n",
    "        <td>Mã trạng thái HTTP mà máy chủ gửi lại cho máy khách.</td>\n",
    "    </tr>\n",
    "    <tr>\n",
    "        <td>bytes</td>\n",
    "        <td>Số byte (Content-Length) được truyền tới máy khách.</td>\n",
    "    </tr>\n",
    "</table>\n",
    "Tiếp theo, chúng ta phải phân tích nó thành các cột riêng lẻ. Chúng ta sẽ sử dụng hàm regrec_extract() đặc biệt được tích hợp sẵn để thực hiện phân tích cú pháp. Hàm này khớp một cột với biểu thức chính quy với một hoặc nhiều nhóm chụp và cho phép bạn trích xuất một trong các nhóm phù hợp. Chúng tôi sẽ sử dụng một biểu thức chính quy cho mỗi trường mà chúng tôi muốn trích xuất.\n",
    "<br> </br>   \n",
    "Nếu cảm thấy biểu thức chính quy khó hiểu và muốn khám phá thêm về chúng, hãy bắt đầu với <a href=\"https://regexone.com/\">RegexOne web site</a>."
   ]
  },
  {
   "cell_type": "code",
   "execution_count": 5,
   "id": "d6f0503b",
   "metadata": {},
   "outputs": [
    {
     "name": "stdout",
     "output_type": "stream",
     "text": [
      "+----------------------------+--------------------------+---------------------------------------------------+------+------------+\n",
      "|host                        |timestamp                 |path                                               |status|content_size|\n",
      "+----------------------------+--------------------------+---------------------------------------------------+------+------------+\n",
      "|in24.inetnebr.com           |01/Aug/1995:00:00:01 -0400|/shuttle/missions/sts-68/news/sts-68-mcc-05.txt    |200   |1839        |\n",
      "|uplherc.upl.com             |01/Aug/1995:00:00:07 -0400|/                                                  |304   |null        |\n",
      "|uplherc.upl.com             |01/Aug/1995:00:00:08 -0400|/images/ksclogo-medium.gif                         |304   |0           |\n",
      "|uplherc.upl.com             |01/Aug/1995:00:00:08 -0400|/images/MOSAIC-logosmall.gif                       |304   |null        |\n",
      "|uplherc.upl.com             |01/Aug/1995:00:00:08 -0400|/images/USA-logosmall.gif                          |304   |0           |\n",
      "|ix-esc-ca2-07.ix.netcom.com |01/Aug/1995:00:00:09 -0400|/images/launch-logo.gif                            |200   |1713        |\n",
      "|uplherc.upl.com             |01/Aug/1995:00:00:10 -0400|/images/WORLD-logosmall.gif                        |304   |0           |\n",
      "|slppp6.intermind.net        |01/Aug/1995:00:00:10 -0400|/history/skylab/skylab.html                        |200   |1687        |\n",
      "|piweba4y.prodigy.com        |01/Aug/1995:00:00:10 -0400|/images/launchmedium.gif                           |200   |11853       |\n",
      "|slppp6.intermind.net        |01/Aug/1995:00:00:11 -0400|/history/skylab/skylab-small.gif                   |200   |9202        |\n",
      "|slppp6.intermind.net        |01/Aug/1995:00:00:12 -0400|/images/ksclogosmall.gif                           |200   |3635        |\n",
      "|ix-esc-ca2-07.ix.netcom.com |01/Aug/1995:00:00:12 -0400|/history/apollo/images/apollo-logo1.gif            |200   |1173        |\n",
      "|slppp6.intermind.net        |01/Aug/1995:00:00:13 -0400|/history/apollo/images/apollo-logo.gif             |200   |3047        |\n",
      "|uplherc.upl.com             |01/Aug/1995:00:00:14 -0400|/images/NASA-logosmall.gif                         |304   |0           |\n",
      "|133.43.96.45                |01/Aug/1995:00:00:16 -0400|/shuttle/missions/sts-69/mission-sts-69.html       |200   |10566       |\n",
      "|kgtyk4.kj.yamagata-u.ac.jp  |01/Aug/1995:00:00:17 -0400|/                                                  |200   |7280        |\n",
      "|kgtyk4.kj.yamagata-u.ac.jp  |01/Aug/1995:00:00:18 -0400|/images/ksclogo-medium.gif                         |200   |5866        |\n",
      "|d0ucr6.fnal.gov             |01/Aug/1995:00:00:19 -0400|/history/apollo/apollo-16/apollo-16.html           |200   |2743        |\n",
      "|ix-esc-ca2-07.ix.netcom.com |01/Aug/1995:00:00:19 -0400|/shuttle/resources/orbiters/discovery.html         |200   |6849        |\n",
      "|d0ucr6.fnal.gov             |01/Aug/1995:00:00:20 -0400|/history/apollo/apollo-16/apollo-16-patch-small.gif|200   |14897       |\n",
      "+----------------------------+--------------------------+---------------------------------------------------+------+------------+\n",
      "\n"
     ]
    }
   ],
   "source": [
    "from pyspark.sql.functions import split, regexp_extract\n",
    "split_df = base_df.select(regexp_extract('value', r'^([^\\s]+\\s)', 1).alias('host'),\n",
    "                          regexp_extract('value', r'^.*\\[(\\d\\d/\\w{3}/\\d{4}:\\d{2}:\\d{2}:\\d{2} -\\d{4})]', 1).alias('timestamp'),\n",
    "                          regexp_extract('value', r'^.*\"\\w+\\s+([^\\s]+)\\s+HTTP.*\"', 1).alias('path'),\n",
    "                          regexp_extract('value', r'^.*\"\\s+([^\\s]+)', 1).cast('integer').alias('status'),\n",
    "                          regexp_extract('value', r'^.*\\s+(\\d+)$', 1).cast('integer').alias('content_size'))\n",
    "split_df.show(truncate=False)"
   ]
  },
  {
   "cell_type": "markdown",
   "id": "0cca0cca",
   "metadata": {},
   "source": [
    "## Cleaning\n",
    "Hãy xem logic phân tích cú pháp của chúng tôi hoạt động tốt như thế nào. Trước tiên, hãy xác minh rằng không có hàng rỗng trong tập dữ liệu gốc."
   ]
  },
  {
   "cell_type": "code",
   "execution_count": 6,
   "id": "fb0ae1f1",
   "metadata": {},
   "outputs": [
    {
     "data": {
      "text/plain": [
       "0"
      ]
     },
     "execution_count": 6,
     "metadata": {},
     "output_type": "execute_result"
    }
   ],
   "source": [
    "base_df.filter(base_df['value'].isNull()).count()"
   ]
  },
  {
   "cell_type": "markdown",
   "id": "829cba5c",
   "metadata": {},
   "source": [
    "Điều đó có nghĩa là không có dòng nào có giá trị null. Hãy kiểm tra khung dữ liệu được phân tích cú pháp"
   ]
  },
  {
   "cell_type": "code",
   "execution_count": 7,
   "id": "032253f8",
   "metadata": {},
   "outputs": [
    {
     "data": {
      "text/plain": [
       "2"
      ]
     },
     "execution_count": 7,
     "metadata": {},
     "output_type": "execute_result"
    }
   ],
   "source": [
    "bad_rows_df = split_df.filter(split_df['host'].isNull() |\n",
    "                              split_df['timestamp'].isNull() |\n",
    "                              split_df['path'].isNull() |\n",
    "                              split_df['status'].isNull() |\n",
    "                             split_df['content_size'].isNull())\n",
    "bad_rows_df.count()"
   ]
  },
  {
   "cell_type": "markdown",
   "id": "bbbfc6c9",
   "metadata": {},
   "source": [
    "Một số trường không được điền vào dữ liệu gốc. Chúng ta cần tìm ra lĩnh vực nào bị ảnh hưởng."
   ]
  },
  {
   "cell_type": "code",
   "execution_count": 8,
   "id": "15ae7a4d",
   "metadata": {},
   "outputs": [
    {
     "name": "stdout",
     "output_type": "stream",
     "text": [
      "+----+---------+----+------+------------+\n",
      "|host|timestamp|path|status|content_size|\n",
      "+----+---------+----+------+------------+\n",
      "|   0|        0|   0|     0|           2|\n",
      "+----+---------+----+------+------------+\n",
      "\n"
     ]
    }
   ],
   "source": [
    "from pyspark.sql.functions import col, sum\n",
    "\n",
    "def count_null(col_name):\n",
    "  return sum(col(col_name).isNull().cast('integer')).alias(col_name)\n",
    "exprs = []\n",
    "[exprs.append(count_null(col_name)) for col_name in split_df.columns]\n",
    "split_df.agg(*exprs).show()"
   ]
  },
  {
   "cell_type": "markdown",
   "id": "674fcf7f",
   "metadata": {},
   "source": [
    "## Sửa các hàng có nội dung null_size"
   ]
  },
  {
   "cell_type": "markdown",
   "id": "f2a6f812",
   "metadata": {},
   "source": [
    "Giải pháp đơn giản nhất là thay thế các giá trị null trong Split_df bằng 0. API DataFrame cung cấp một tập hợp các hàm và trường được thiết kế riêng để làm việc với các giá trị null. Chúng ta sử dụng na để thay thế <code>content_size</code> bằng 0."
   ]
  },
  {
   "cell_type": "code",
   "execution_count": 9,
   "id": "f8a60634",
   "metadata": {},
   "outputs": [
    {
     "name": "stdout",
     "output_type": "stream",
     "text": [
      "+----+---------+----+------+------------+\n",
      "|host|timestamp|path|status|content_size|\n",
      "+----+---------+----+------+------------+\n",
      "|   0|        0|   0|     0|           0|\n",
      "+----+---------+----+------+------------+\n",
      "\n"
     ]
    }
   ],
   "source": [
    "cleaned_df = split_df.na.fill({'content_size': 0})\n",
    "exprs = []\n",
    "[exprs.append(count_null(col_name)) for col_name in cleaned_df.columns]\n",
    "\n",
    "cleaned_df.agg(*exprs).show()"
   ]
  },
  {
   "cell_type": "code",
   "execution_count": 10,
   "id": "0a356524",
   "metadata": {},
   "outputs": [
    {
     "name": "stdout",
     "output_type": "stream",
     "text": [
      "20\n",
      "+----------------------------+---------------------------------------------------+------+------------+-------------------+\n",
      "|host                        |path                                               |status|content_size|time               |\n",
      "+----------------------------+---------------------------------------------------+------+------------+-------------------+\n",
      "|in24.inetnebr.com           |/shuttle/missions/sts-68/news/sts-68-mcc-05.txt    |200   |1839        |1995-08-01 04:00:01|\n",
      "|uplherc.upl.com             |/                                                  |304   |0           |1995-08-01 04:00:07|\n",
      "|uplherc.upl.com             |/images/ksclogo-medium.gif                         |304   |0           |1995-08-01 04:00:08|\n",
      "|uplherc.upl.com             |/images/MOSAIC-logosmall.gif                       |304   |0           |1995-08-01 04:00:08|\n",
      "|uplherc.upl.com             |/images/USA-logosmall.gif                          |304   |0           |1995-08-01 04:00:08|\n",
      "|ix-esc-ca2-07.ix.netcom.com |/images/launch-logo.gif                            |200   |1713        |1995-08-01 04:00:09|\n",
      "|uplherc.upl.com             |/images/WORLD-logosmall.gif                        |304   |0           |1995-08-01 04:00:10|\n",
      "|slppp6.intermind.net        |/history/skylab/skylab.html                        |200   |1687        |1995-08-01 04:00:10|\n",
      "|piweba4y.prodigy.com        |/images/launchmedium.gif                           |200   |11853       |1995-08-01 04:00:10|\n",
      "|slppp6.intermind.net        |/history/skylab/skylab-small.gif                   |200   |9202        |1995-08-01 04:00:11|\n",
      "|slppp6.intermind.net        |/images/ksclogosmall.gif                           |200   |3635        |1995-08-01 04:00:12|\n",
      "|ix-esc-ca2-07.ix.netcom.com |/history/apollo/images/apollo-logo1.gif            |200   |1173        |1995-08-01 04:00:12|\n",
      "|slppp6.intermind.net        |/history/apollo/images/apollo-logo.gif             |200   |3047        |1995-08-01 04:00:13|\n",
      "|uplherc.upl.com             |/images/NASA-logosmall.gif                         |304   |0           |1995-08-01 04:00:14|\n",
      "|133.43.96.45                |/shuttle/missions/sts-69/mission-sts-69.html       |200   |10566       |1995-08-01 04:00:16|\n",
      "|kgtyk4.kj.yamagata-u.ac.jp  |/                                                  |200   |7280        |1995-08-01 04:00:17|\n",
      "|kgtyk4.kj.yamagata-u.ac.jp  |/images/ksclogo-medium.gif                         |200   |5866        |1995-08-01 04:00:18|\n",
      "|d0ucr6.fnal.gov             |/history/apollo/apollo-16/apollo-16.html           |200   |2743        |1995-08-01 04:00:19|\n",
      "|ix-esc-ca2-07.ix.netcom.com |/shuttle/resources/orbiters/discovery.html         |200   |6849        |1995-08-01 04:00:19|\n",
      "|d0ucr6.fnal.gov             |/history/apollo/apollo-16/apollo-16-patch-small.gif|200   |14897       |1995-08-01 04:00:20|\n",
      "+----------------------------+---------------------------------------------------+------+------------+-------------------+\n",
      "\n"
     ]
    }
   ],
   "source": [
    "from pyspark.sql.functions import *\n",
    "logs_df = cleaned_df.select('*', to_timestamp(cleaned_df['timestamp'],\"dd/MMM/yyyy:HH:mm:ss ZZZZ\").cast('timestamp').alias('time')).drop('timestamp')\n",
    "total_log_entries = logs_df.count()\n",
    "print(total_log_entries)\n",
    "logs_df.show(truncate=False)"
   ]
  },
  {
   "cell_type": "code",
   "execution_count": 11,
   "id": "080fb535",
   "metadata": {},
   "outputs": [
    {
     "name": "stdout",
     "output_type": "stream",
     "text": [
      "+----------------------------+--------------------------+---------------------------------------------------+------+------------+-------------------+\n",
      "|host                        |timestamp                 |path                                               |status|content_size|time               |\n",
      "+----------------------------+--------------------------+---------------------------------------------------+------+------------+-------------------+\n",
      "|in24.inetnebr.com           |01/Aug/1995:00:00:01 -0400|/shuttle/missions/sts-68/news/sts-68-mcc-05.txt    |200   |1839        |1995-08-01 04:00:01|\n",
      "|uplherc.upl.com             |01/Aug/1995:00:00:07 -0400|/                                                  |304   |0           |1995-08-01 04:00:07|\n",
      "|uplherc.upl.com             |01/Aug/1995:00:00:08 -0400|/images/ksclogo-medium.gif                         |304   |0           |1995-08-01 04:00:08|\n",
      "|uplherc.upl.com             |01/Aug/1995:00:00:08 -0400|/images/MOSAIC-logosmall.gif                       |304   |0           |1995-08-01 04:00:08|\n",
      "|uplherc.upl.com             |01/Aug/1995:00:00:08 -0400|/images/USA-logosmall.gif                          |304   |0           |1995-08-01 04:00:08|\n",
      "|ix-esc-ca2-07.ix.netcom.com |01/Aug/1995:00:00:09 -0400|/images/launch-logo.gif                            |200   |1713        |1995-08-01 04:00:09|\n",
      "|uplherc.upl.com             |01/Aug/1995:00:00:10 -0400|/images/WORLD-logosmall.gif                        |304   |0           |1995-08-01 04:00:10|\n",
      "|slppp6.intermind.net        |01/Aug/1995:00:00:10 -0400|/history/skylab/skylab.html                        |200   |1687        |1995-08-01 04:00:10|\n",
      "|piweba4y.prodigy.com        |01/Aug/1995:00:00:10 -0400|/images/launchmedium.gif                           |200   |11853       |1995-08-01 04:00:10|\n",
      "|slppp6.intermind.net        |01/Aug/1995:00:00:11 -0400|/history/skylab/skylab-small.gif                   |200   |9202        |1995-08-01 04:00:11|\n",
      "|slppp6.intermind.net        |01/Aug/1995:00:00:12 -0400|/images/ksclogosmall.gif                           |200   |3635        |1995-08-01 04:00:12|\n",
      "|ix-esc-ca2-07.ix.netcom.com |01/Aug/1995:00:00:12 -0400|/history/apollo/images/apollo-logo1.gif            |200   |1173        |1995-08-01 04:00:12|\n",
      "|slppp6.intermind.net        |01/Aug/1995:00:00:13 -0400|/history/apollo/images/apollo-logo.gif             |200   |3047        |1995-08-01 04:00:13|\n",
      "|uplherc.upl.com             |01/Aug/1995:00:00:14 -0400|/images/NASA-logosmall.gif                         |304   |0           |1995-08-01 04:00:14|\n",
      "|133.43.96.45                |01/Aug/1995:00:00:16 -0400|/shuttle/missions/sts-69/mission-sts-69.html       |200   |10566       |1995-08-01 04:00:16|\n",
      "|kgtyk4.kj.yamagata-u.ac.jp  |01/Aug/1995:00:00:17 -0400|/                                                  |200   |7280        |1995-08-01 04:00:17|\n",
      "|kgtyk4.kj.yamagata-u.ac.jp  |01/Aug/1995:00:00:18 -0400|/images/ksclogo-medium.gif                         |200   |5866        |1995-08-01 04:00:18|\n",
      "|d0ucr6.fnal.gov             |01/Aug/1995:00:00:19 -0400|/history/apollo/apollo-16/apollo-16.html           |200   |2743        |1995-08-01 04:00:19|\n",
      "|ix-esc-ca2-07.ix.netcom.com |01/Aug/1995:00:00:19 -0400|/shuttle/resources/orbiters/discovery.html         |200   |6849        |1995-08-01 04:00:19|\n",
      "|d0ucr6.fnal.gov             |01/Aug/1995:00:00:20 -0400|/history/apollo/apollo-16/apollo-16-patch-small.gif|200   |14897       |1995-08-01 04:00:20|\n",
      "+----------------------------+--------------------------+---------------------------------------------------+------+------------+-------------------+\n",
      "\n"
     ]
    }
   ],
   "source": [
    "#01/Aug/1995:00:00:07 -0400\n",
    "cleaned_df.select('*').withColumn('time',to_timestamp(col(\"timestamp\"),'dd/MMM/yyyy:HH:mm:ss ZZZZ')) \\\n",
    "  .show(truncate=False)"
   ]
  }
 ],
 "metadata": {
  "kernelspec": {
   "display_name": "Python 3 (ipykernel)",
   "language": "python",
   "name": "python3"
  },
  "language_info": {
   "codemirror_mode": {
    "name": "ipython",
    "version": 3
   },
   "file_extension": ".py",
   "mimetype": "text/x-python",
   "name": "python",
   "nbconvert_exporter": "python",
   "pygments_lexer": "ipython3",
   "version": "3.7.3"
  }
 },
 "nbformat": 4,
 "nbformat_minor": 5
}
